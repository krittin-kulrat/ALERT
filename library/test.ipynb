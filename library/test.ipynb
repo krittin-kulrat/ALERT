{
 "cells": [
  {
   "cell_type": "code",
   "execution_count": 1,
   "metadata": {},
   "outputs": [],
   "source": [
    "import pandas as pd\n",
    "import os\n",
    "import sklearn"
   ]
  },
  {
   "cell_type": "code",
   "execution_count": 8,
   "metadata": {},
   "outputs": [
    {
     "name": "stdout",
     "output_type": "stream",
     "text": [
      "c:\\Users\\kritt\\OneDrive\\Documents\\GitHub\\ALERT\\library\\data\u0007rco\test_dataset\\Subject1.csv\n"
     ]
    },
    {
     "name": "stderr",
     "output_type": "stream",
     "text": [
      "<>:1: SyntaxWarning: invalid escape sequence '\\S'\n",
      "<>:1: SyntaxWarning: invalid escape sequence '\\S'\n",
      "C:\\Users\\kritt\\AppData\\Local\\Temp\\ipykernel_25260\\1308340840.py:1: SyntaxWarning: invalid escape sequence '\\S'\n",
      "  test = 'data\\arco\\test_dataset\\Subject1.csv'\n"
     ]
    }
   ],
   "source": [
    "test = 'data/arco/test_dataset/Subject1.csv'\n",
    "abs_path = os.path.abspath(test)\n"
   ]
  },
  {
   "cell_type": "code",
   "execution_count": 10,
   "metadata": {},
   "outputs": [
    {
     "data": {
      "text/plain": [
       "20"
      ]
     },
     "execution_count": 10,
     "metadata": {},
     "output_type": "execute_result"
    }
   ],
   "source": [
    "test.find('\\\\')"
   ]
  }
 ],
 "metadata": {
  "kernelspec": {
   "display_name": "alert_test",
   "language": "python",
   "name": "python3"
  },
  "language_info": {
   "codemirror_mode": {
    "name": "ipython",
    "version": 3
   },
   "file_extension": ".py",
   "mimetype": "text/x-python",
   "name": "python",
   "nbconvert_exporter": "python",
   "pygments_lexer": "ipython3",
   "version": "3.12.0"
  }
 },
 "nbformat": 4,
 "nbformat_minor": 2
}
